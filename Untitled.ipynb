{
 "cells": [
  {
   "cell_type": "code",
   "execution_count": 1,
   "metadata": {
    "collapsed": true
   },
   "outputs": [],
   "source": [
    "import pandas as pd\n",
    "import requests \n",
    "import simplejson as json"
   ]
  },
  {
   "cell_type": "code",
   "execution_count": 18,
   "metadata": {
    "collapsed": true
   },
   "outputs": [],
   "source": [
    "dictionary = {'api_key':'XyT1FY3chW_8gD_g4ytW', 'date.lt':'2017-11-30', 'date.gt':'2017-11-01'}\n",
    "r = requests.get('https://www.quandl.com/api/v3/datatables/WIKI/PRICES.json', params=dictionary)\n",
    "x = r.json()\n",
    "df=pd.DataFrame(x['datatable']['data'])\n",
    "df.columns = pd.DataFrame(x['datatable']['columns'])['name']"
   ]
  },
  {
   "cell_type": "code",
   "execution_count": 22,
   "metadata": {},
   "outputs": [],
   "source": [
    "dfnew=df[['ticker','date','open','high','low','close']]"
   ]
  },
  {
   "cell_type": "code",
   "execution_count": 47,
   "metadata": {},
   "outputs": [
    {
     "data": {
      "text/plain": [
       "['2017-11-02',\n",
       " '2017-11-03',\n",
       " '2017-11-06',\n",
       " '2017-11-07',\n",
       " '2017-11-09',\n",
       " '2017-11-10',\n",
       " '2017-11-13',\n",
       " '2017-11-14',\n",
       " '2017-11-15',\n",
       " '2017-11-16',\n",
       " '2017-11-17',\n",
       " '2017-11-20',\n",
       " '2017-11-21',\n",
       " '2017-11-22',\n",
       " '2017-11-24',\n",
       " '2017-11-27',\n",
       " '2017-11-28',\n",
       " '2017-11-29']"
      ]
     },
     "execution_count": 47,
     "metadata": {},
     "output_type": "execute_result"
    }
   ],
   "source": [
    "x=dfnew[dfnew['ticker']=='A']['date'].values.tolist()\n",
    "x"
   ]
  },
  {
   "cell_type": "code",
   "execution_count": 48,
   "metadata": {},
   "outputs": [
    {
     "data": {
      "text/plain": [
       "[68.08,\n",
       " 68.09,\n",
       " 68.27,\n",
       " 68.32,\n",
       " 67.92,\n",
       " 67.35,\n",
       " 66.45,\n",
       " 66.98,\n",
       " 67.29,\n",
       " 67.5,\n",
       " 68.53,\n",
       " 69.28,\n",
       " 70.05,\n",
       " 69.14,\n",
       " 68.84,\n",
       " 69.22,\n",
       " 69.56,\n",
       " 70.5]"
      ]
     },
     "execution_count": 48,
     "metadata": {},
     "output_type": "execute_result"
    }
   ],
   "source": [
    "y=dfnew[dfnew['ticker']=='A']['open'].values.tolist()\n",
    "y"
   ]
  },
  {
   "cell_type": "code",
   "execution_count": 51,
   "metadata": {},
   "outputs": [
    {
     "data": {
      "text/html": [
       "\n",
       "<div class=\"bk-root\">\n",
       "    <div class=\"bk-plotdiv\" id=\"94242fd4-5cdc-4707-a259-255c4116906f\"></div>\n",
       "</div>"
      ]
     },
     "metadata": {},
     "output_type": "display_data"
    },
    {
     "data": {
      "application/javascript": [
       "(function(root) {\n",
       "  function embed_document(root) {\n",
       "    \n",
       "  var docs_json = {\"a1b9ba91-d027-476a-853f-fd6a02a26188\":{\"roots\":{\"references\":[{\"attributes\":{},\"id\":\"aea4fd8d-b19d-4df5-92d2-04cbbe4534ec\",\"type\":\"BasicTickFormatter\"},{\"attributes\":{},\"id\":\"b47da3bf-171d-41f4-ad71-289717dc3446\",\"type\":\"ResetTool\"},{\"attributes\":{\"data_source\":{\"id\":\"04c310cc-709a-4fdd-b730-c5d9926f4f76\",\"type\":\"ColumnDataSource\"},\"glyph\":{\"id\":\"98b964bc-bc69-43ee-b0f5-f4e162718cde\",\"type\":\"Line\"},\"hover_glyph\":null,\"muted_glyph\":null,\"nonselection_glyph\":{\"id\":\"c8462797-316f-48a9-8f5e-c88ad952d55e\",\"type\":\"Line\"},\"selection_glyph\":null,\"view\":{\"id\":\"7fb0bae9-4936-4937-80ca-1bd40bb3fdd2\",\"type\":\"CDSView\"}},\"id\":\"13211085-ea5b-4263-9a1c-3abd8c46b20d\",\"type\":\"GlyphRenderer\"},{\"attributes\":{\"overlay\":{\"id\":\"76f73417-b765-466d-9c2c-bb3b33297c3a\",\"type\":\"BoxAnnotation\"}},\"id\":\"ae922f1a-0283-4801-96ad-e2da6847a16b\",\"type\":\"BoxZoomTool\"},{\"attributes\":{},\"id\":\"e5cf51f1-99a4-457f-b30c-ef3cc2df53f8\",\"type\":\"SaveTool\"},{\"attributes\":{},\"id\":\"1e43d338-2f64-4d25-9683-761aeba26673\",\"type\":\"LinearScale\"},{\"attributes\":{\"days\":[1,8,15,22]},\"id\":\"a0b5606a-8b7a-49a3-8ffe-a0f1494daa8c\",\"type\":\"DaysTicker\"},{\"attributes\":{},\"id\":\"358444ea-dc14-4e82-8b6b-c71e4547e377\",\"type\":\"LinearScale\"},{\"attributes\":{\"months\":[0,6]},\"id\":\"7faf5336-e3ef-4d37-aa84-fa9cd2ac5457\",\"type\":\"MonthsTicker\"},{\"attributes\":{\"below\":[{\"id\":\"08fd2ffe-5d55-4b9b-a678-8d5d72758170\",\"type\":\"DatetimeAxis\"}],\"left\":[{\"id\":\"7a5544c2-18ef-4949-a228-698aad82ae5a\",\"type\":\"LinearAxis\"}],\"renderers\":[{\"id\":\"08fd2ffe-5d55-4b9b-a678-8d5d72758170\",\"type\":\"DatetimeAxis\"},{\"id\":\"fe2c960d-0537-464b-8742-8c5c61c92cf9\",\"type\":\"Grid\"},{\"id\":\"7a5544c2-18ef-4949-a228-698aad82ae5a\",\"type\":\"LinearAxis\"},{\"id\":\"25789cef-aadc-46b0-b0a0-2d36ff78c7a4\",\"type\":\"Grid\"},{\"id\":\"76f73417-b765-466d-9c2c-bb3b33297c3a\",\"type\":\"BoxAnnotation\"},{\"id\":\"13211085-ea5b-4263-9a1c-3abd8c46b20d\",\"type\":\"GlyphRenderer\"}],\"title\":{\"id\":\"bfeb8139-fbdd-4427-825b-2f5787e972d2\",\"type\":\"Title\"},\"toolbar\":{\"id\":\"ea89bb65-7f09-41b5-89f3-72a02e310ecb\",\"type\":\"Toolbar\"},\"x_range\":{\"id\":\"01eea188-7fe8-46bd-876b-010ee4e971e3\",\"type\":\"DataRange1d\"},\"x_scale\":{\"id\":\"358444ea-dc14-4e82-8b6b-c71e4547e377\",\"type\":\"LinearScale\"},\"y_range\":{\"id\":\"f1cec886-5342-485a-b85f-b368211a5e9b\",\"type\":\"DataRange1d\"},\"y_scale\":{\"id\":\"1e43d338-2f64-4d25-9683-761aeba26673\",\"type\":\"LinearScale\"}},\"id\":\"720161c4-ce80-4d23-a494-1503a7a729ab\",\"subtype\":\"Figure\",\"type\":\"Plot\"},{\"attributes\":{\"plot\":{\"id\":\"720161c4-ce80-4d23-a494-1503a7a729ab\",\"subtype\":\"Figure\",\"type\":\"Plot\"},\"ticker\":{\"id\":\"8fedc9ae-f32e-4d79-9f43-bda71e8d7355\",\"type\":\"DatetimeTicker\"}},\"id\":\"fe2c960d-0537-464b-8742-8c5c61c92cf9\",\"type\":\"Grid\"},{\"attributes\":{\"days\":[1,15]},\"id\":\"92e2810e-4f34-4781-a5e2-e1604a27002b\",\"type\":\"DaysTicker\"},{\"attributes\":{\"axis_label\":\"Open Price\",\"formatter\":{\"id\":\"aea4fd8d-b19d-4df5-92d2-04cbbe4534ec\",\"type\":\"BasicTickFormatter\"},\"plot\":{\"id\":\"720161c4-ce80-4d23-a494-1503a7a729ab\",\"subtype\":\"Figure\",\"type\":\"Plot\"},\"ticker\":{\"id\":\"d308994b-71b1-4cd8-8ea0-c6f17a9bc9a4\",\"type\":\"BasicTicker\"}},\"id\":\"7a5544c2-18ef-4949-a228-698aad82ae5a\",\"type\":\"LinearAxis\"},{\"attributes\":{},\"id\":\"f9aaf244-21f0-495c-a3be-41424d5a77e3\",\"type\":\"YearsTicker\"},{\"attributes\":{},\"id\":\"d308994b-71b1-4cd8-8ea0-c6f17a9bc9a4\",\"type\":\"BasicTicker\"},{\"attributes\":{\"months\":[0,1,2,3,4,5,6,7,8,9,10,11]},\"id\":\"7029c8e5-befd-48dc-a208-49a7a2319c90\",\"type\":\"MonthsTicker\"},{\"attributes\":{\"dimension\":1,\"plot\":{\"id\":\"720161c4-ce80-4d23-a494-1503a7a729ab\",\"subtype\":\"Figure\",\"type\":\"Plot\"},\"ticker\":{\"id\":\"d308994b-71b1-4cd8-8ea0-c6f17a9bc9a4\",\"type\":\"BasicTicker\"}},\"id\":\"25789cef-aadc-46b0-b0a0-2d36ff78c7a4\",\"type\":\"Grid\"},{\"attributes\":{\"num_minor_ticks\":5,\"tickers\":[{\"id\":\"bffc1101-1027-4b12-b963-e175b8e6e5ae\",\"type\":\"AdaptiveTicker\"},{\"id\":\"bc650b12-5aa2-434d-844a-f46e14c98b37\",\"type\":\"AdaptiveTicker\"},{\"id\":\"e9b69ef0-e59a-4bb9-81c2-e006d33d76c1\",\"type\":\"AdaptiveTicker\"},{\"id\":\"0d06911e-a7cf-4c1f-8286-17ec22f566e9\",\"type\":\"DaysTicker\"},{\"id\":\"e699c082-587c-4c12-8bbf-dc3bcf5ed3e3\",\"type\":\"DaysTicker\"},{\"id\":\"a0b5606a-8b7a-49a3-8ffe-a0f1494daa8c\",\"type\":\"DaysTicker\"},{\"id\":\"92e2810e-4f34-4781-a5e2-e1604a27002b\",\"type\":\"DaysTicker\"},{\"id\":\"7029c8e5-befd-48dc-a208-49a7a2319c90\",\"type\":\"MonthsTicker\"},{\"id\":\"7e0e227c-41ad-41c0-8dab-c6ed83c75b32\",\"type\":\"MonthsTicker\"},{\"id\":\"17a8b02f-c983-4f75-9b6e-df04674d02bf\",\"type\":\"MonthsTicker\"},{\"id\":\"7faf5336-e3ef-4d37-aa84-fa9cd2ac5457\",\"type\":\"MonthsTicker\"},{\"id\":\"f9aaf244-21f0-495c-a3be-41424d5a77e3\",\"type\":\"YearsTicker\"}]},\"id\":\"8fedc9ae-f32e-4d79-9f43-bda71e8d7355\",\"type\":\"DatetimeTicker\"},{\"attributes\":{\"callback\":null},\"id\":\"f1cec886-5342-485a-b85f-b368211a5e9b\",\"type\":\"DataRange1d\"},{\"attributes\":{\"months\":[0,2,4,6,8,10]},\"id\":\"7e0e227c-41ad-41c0-8dab-c6ed83c75b32\",\"type\":\"MonthsTicker\"},{\"attributes\":{\"plot\":null,\"text\":\"Open Price Graph\"},\"id\":\"bfeb8139-fbdd-4427-825b-2f5787e972d2\",\"type\":\"Title\"},{\"attributes\":{\"line_color\":\"#1f77b4\",\"line_width\":2,\"x\":{\"field\":\"x\"},\"y\":{\"field\":\"y\"}},\"id\":\"98b964bc-bc69-43ee-b0f5-f4e162718cde\",\"type\":\"Line\"},{\"attributes\":{\"months\":[0,4,8]},\"id\":\"17a8b02f-c983-4f75-9b6e-df04674d02bf\",\"type\":\"MonthsTicker\"},{\"attributes\":{\"axis_label\":\"Date\",\"formatter\":{\"id\":\"893e42d2-4889-4f9b-9473-8834ca6a1cc9\",\"type\":\"DatetimeTickFormatter\"},\"plot\":{\"id\":\"720161c4-ce80-4d23-a494-1503a7a729ab\",\"subtype\":\"Figure\",\"type\":\"Plot\"},\"ticker\":{\"id\":\"8fedc9ae-f32e-4d79-9f43-bda71e8d7355\",\"type\":\"DatetimeTicker\"}},\"id\":\"08fd2ffe-5d55-4b9b-a678-8d5d72758170\",\"type\":\"DatetimeAxis\"},{\"attributes\":{\"source\":{\"id\":\"04c310cc-709a-4fdd-b730-c5d9926f4f76\",\"type\":\"ColumnDataSource\"}},\"id\":\"7fb0bae9-4936-4937-80ca-1bd40bb3fdd2\",\"type\":\"CDSView\"},{\"attributes\":{\"base\":60,\"mantissas\":[1,2,5,10,15,20,30],\"max_interval\":1800000.0,\"min_interval\":1000.0,\"num_minor_ticks\":0},\"id\":\"bc650b12-5aa2-434d-844a-f46e14c98b37\",\"type\":\"AdaptiveTicker\"},{\"attributes\":{\"active_drag\":\"auto\",\"active_inspect\":\"auto\",\"active_scroll\":\"auto\",\"active_tap\":\"auto\",\"tools\":[{\"id\":\"388ac309-7c06-495e-bd92-c97576f18a88\",\"type\":\"PanTool\"},{\"id\":\"6e3ccde5-345c-4cd4-98ca-6eb2ffcadcc7\",\"type\":\"WheelZoomTool\"},{\"id\":\"ae922f1a-0283-4801-96ad-e2da6847a16b\",\"type\":\"BoxZoomTool\"},{\"id\":\"e5cf51f1-99a4-457f-b30c-ef3cc2df53f8\",\"type\":\"SaveTool\"},{\"id\":\"b47da3bf-171d-41f4-ad71-289717dc3446\",\"type\":\"ResetTool\"},{\"id\":\"a9ccd422-ac00-4140-bdcf-e231b09b4f18\",\"type\":\"HelpTool\"}]},\"id\":\"ea89bb65-7f09-41b5-89f3-72a02e310ecb\",\"type\":\"Toolbar\"},{\"attributes\":{},\"id\":\"388ac309-7c06-495e-bd92-c97576f18a88\",\"type\":\"PanTool\"},{\"attributes\":{\"bottom_units\":\"screen\",\"fill_alpha\":{\"value\":0.5},\"fill_color\":{\"value\":\"lightgrey\"},\"left_units\":\"screen\",\"level\":\"overlay\",\"line_alpha\":{\"value\":1.0},\"line_color\":{\"value\":\"black\"},\"line_dash\":[4,4],\"line_width\":{\"value\":2},\"plot\":null,\"render_mode\":\"css\",\"right_units\":\"screen\",\"top_units\":\"screen\"},\"id\":\"76f73417-b765-466d-9c2c-bb3b33297c3a\",\"type\":\"BoxAnnotation\"},{\"attributes\":{\"line_alpha\":0.1,\"line_color\":\"#1f77b4\",\"line_width\":2,\"x\":{\"field\":\"x\"},\"y\":{\"field\":\"y\"}},\"id\":\"c8462797-316f-48a9-8f5e-c88ad952d55e\",\"type\":\"Line\"},{\"attributes\":{},\"id\":\"6e3ccde5-345c-4cd4-98ca-6eb2ffcadcc7\",\"type\":\"WheelZoomTool\"},{\"attributes\":{\"callback\":null,\"column_names\":[\"x\",\"y\"],\"data\":{\"x\":[\"2017-11-02\",\"2017-11-03\",\"2017-11-06\",\"2017-11-07\",\"2017-11-09\",\"2017-11-10\",\"2017-11-13\",\"2017-11-14\",\"2017-11-15\",\"2017-11-16\",\"2017-11-17\",\"2017-11-20\",\"2017-11-21\",\"2017-11-22\",\"2017-11-24\",\"2017-11-27\",\"2017-11-28\",\"2017-11-29\"],\"y\":[68.08,68.09,68.27,68.32,67.92,67.35,66.45,66.98,67.29,67.5,68.53,69.28,70.05,69.14,68.84,69.22,69.56,70.5]}},\"id\":\"04c310cc-709a-4fdd-b730-c5d9926f4f76\",\"type\":\"ColumnDataSource\"},{\"attributes\":{\"days\":[1,2,3,4,5,6,7,8,9,10,11,12,13,14,15,16,17,18,19,20,21,22,23,24,25,26,27,28,29,30,31]},\"id\":\"0d06911e-a7cf-4c1f-8286-17ec22f566e9\",\"type\":\"DaysTicker\"},{\"attributes\":{\"base\":24,\"mantissas\":[1,2,4,6,8,12],\"max_interval\":43200000.0,\"min_interval\":3600000.0,\"num_minor_ticks\":0},\"id\":\"e9b69ef0-e59a-4bb9-81c2-e006d33d76c1\",\"type\":\"AdaptiveTicker\"},{\"attributes\":{\"callback\":null},\"id\":\"01eea188-7fe8-46bd-876b-010ee4e971e3\",\"type\":\"DataRange1d\"},{\"attributes\":{},\"id\":\"893e42d2-4889-4f9b-9473-8834ca6a1cc9\",\"type\":\"DatetimeTickFormatter\"},{\"attributes\":{},\"id\":\"a9ccd422-ac00-4140-bdcf-e231b09b4f18\",\"type\":\"HelpTool\"},{\"attributes\":{\"days\":[1,4,7,10,13,16,19,22,25,28]},\"id\":\"e699c082-587c-4c12-8bbf-dc3bcf5ed3e3\",\"type\":\"DaysTicker\"},{\"attributes\":{\"mantissas\":[1,2,5],\"max_interval\":500.0,\"num_minor_ticks\":0},\"id\":\"bffc1101-1027-4b12-b963-e175b8e6e5ae\",\"type\":\"AdaptiveTicker\"}],\"root_ids\":[\"720161c4-ce80-4d23-a494-1503a7a729ab\"]},\"title\":\"Bokeh Application\",\"version\":\"0.12.13\"}};\n",
       "  var render_items = [{\"docid\":\"a1b9ba91-d027-476a-853f-fd6a02a26188\",\"elementid\":\"94242fd4-5cdc-4707-a259-255c4116906f\",\"modelid\":\"720161c4-ce80-4d23-a494-1503a7a729ab\"}];\n",
       "  root.Bokeh.embed.embed_items_notebook(docs_json, render_items);\n",
       "\n",
       "  }\n",
       "  if (root.Bokeh !== undefined) {\n",
       "    embed_document(root);\n",
       "  } else {\n",
       "    var attempts = 0;\n",
       "    var timer = setInterval(function(root) {\n",
       "      if (root.Bokeh !== undefined) {\n",
       "        embed_document(root);\n",
       "        clearInterval(timer);\n",
       "      }\n",
       "      attempts++;\n",
       "      if (attempts > 100) {\n",
       "        console.log(\"Bokeh: ERROR: Unable to run BokehJS code because BokehJS library is missing\")\n",
       "        clearInterval(timer);\n",
       "      }\n",
       "    }, 10, root)\n",
       "  }\n",
       "})(window);"
      ],
      "application/vnd.bokehjs_exec.v0+json": ""
     },
     "metadata": {
      "application/vnd.bokehjs_exec.v0+json": {
       "id": "720161c4-ce80-4d23-a494-1503a7a729ab"
      }
     },
     "output_type": "display_data"
    }
   ],
   "source": [
    "from bokeh.plotting import figure, output_file, show\n",
    "\n",
    "x = dfnew[dfnew['ticker']=='A']['date'].values.tolist()\n",
    "y = dfnew[dfnew['ticker']=='A']['open'].values.tolist()\n",
    "\n",
    "output_file(\"open.html\")\n",
    "\n",
    "p = figure(title=\"Open Price Graph\", x_axis_label='Date', y_axis_label='Open Price', x_axis_type=\"datetime\")\n",
    "\n",
    "p.line(x, y, line_width=2)\n",
    "\n",
    "show(p)"
   ]
  },
  {
   "cell_type": "code",
   "execution_count": null,
   "metadata": {
    "collapsed": true
   },
   "outputs": [],
   "source": []
  }
 ],
 "metadata": {
  "kernelspec": {
   "display_name": "Python 3",
   "language": "python",
   "name": "python3"
  },
  "language_info": {
   "codemirror_mode": {
    "name": "ipython",
    "version": 3
   },
   "file_extension": ".py",
   "mimetype": "text/x-python",
   "name": "python",
   "nbconvert_exporter": "python",
   "pygments_lexer": "ipython3",
   "version": "3.6.2"
  }
 },
 "nbformat": 4,
 "nbformat_minor": 2
}
